{
 "cells": [
  {
   "cell_type": "code",
   "execution_count": 14,
   "id": "294e8350",
   "metadata": {},
   "outputs": [],
   "source": [
    "import os\n",
    "os.environ[\"KMP_DUPLICATE_LIB_OK\"] = \"TRUE\"\n",
    "\n",
    "import pickle\n",
    "\n",
    "import torch\n",
    "import torch.nn as nn\n",
    "import numpy as np\n",
    "import matplotlib.pyplot as plt\n",
    "from sklearn.metrics import precision_score, recall_score, f1_score"
   ]
  },
  {
   "cell_type": "code",
   "execution_count": 2,
   "id": "c7cb0e6a",
   "metadata": {},
   "outputs": [],
   "source": [
    "class Autoencoder(nn.Module):\n",
    "    def __init__(self, input_dim):\n",
    "        super(Autoencoder, self).__init__()\n",
    "\n",
    "        self.encoder = nn.Sequential(\n",
    "            nn.Linear(input_dim, 64),\n",
    "            nn.ReLU(),\n",
    "            nn.Linear(64, 32),\n",
    "            nn.ReLU(),\n",
    "            nn.Linear(32,16)\n",
    "        )\n",
    "\n",
    "        self.decoder = nn.Sequential(\n",
    "            nn.Linear(16,32),\n",
    "            nn.ReLU(),\n",
    "            nn.Linear(32,64),\n",
    "            nn.ReLU(),\n",
    "            nn.Linear(64, input_dim)\n",
    "        )\n",
    "\n",
    "    def forward(self, x):\n",
    "        encoded = self.encoder(x)\n",
    "        decoded = self.decoder(encoded)\n",
    "        return decoded"
   ]
  },
  {
   "cell_type": "code",
   "execution_count": 6,
   "id": "18346da1",
   "metadata": {},
   "outputs": [],
   "source": [
    "with open('../data/splits.pkl', 'rb') as f:\n",
    "    splits = pickle.load(f)\n",
    "\n",
    "x_train = splits['X_train']\n",
    "x_test = splits['X_test']"
   ]
  },
  {
   "cell_type": "code",
   "execution_count": 7,
   "id": "f042b078",
   "metadata": {},
   "outputs": [
    {
     "name": "stderr",
     "output_type": "stream",
     "text": [
      "C:\\Users\\apara\\AppData\\Local\\Temp\\ipykernel_13248\\3643936318.py:7: FutureWarning: You are using `torch.load` with `weights_only=False` (the current default value), which uses the default pickle module implicitly. It is possible to construct malicious pickle data which will execute arbitrary code during unpickling (See https://github.com/pytorch/pytorch/blob/main/SECURITY.md#untrusted-models for more details). In a future release, the default value for `weights_only` will be flipped to `True`. This limits the functions that could be executed during unpickling. Arbitrary objects will no longer be allowed to be loaded via this mode unless they are explicitly allowlisted by the user via `torch.serialization.add_safe_globals`. We recommend you start setting `weights_only=True` for any use case where you don't have full control of the loaded file. Please open an issue on GitHub for any issues related to this experimental feature.\n",
      "  model.load_state_dict(torch.load('../data/autoencoder_model.pth'))\n"
     ]
    },
    {
     "data": {
      "text/plain": [
       "Autoencoder(\n",
       "  (encoder): Sequential(\n",
       "    (0): Linear(in_features=30, out_features=64, bias=True)\n",
       "    (1): ReLU()\n",
       "    (2): Linear(in_features=64, out_features=32, bias=True)\n",
       "    (3): ReLU()\n",
       "    (4): Linear(in_features=32, out_features=16, bias=True)\n",
       "  )\n",
       "  (decoder): Sequential(\n",
       "    (0): Linear(in_features=16, out_features=32, bias=True)\n",
       "    (1): ReLU()\n",
       "    (2): Linear(in_features=32, out_features=64, bias=True)\n",
       "    (3): ReLU()\n",
       "    (4): Linear(in_features=64, out_features=30, bias=True)\n",
       "  )\n",
       ")"
      ]
     },
     "execution_count": 7,
     "metadata": {},
     "output_type": "execute_result"
    }
   ],
   "source": [
    "input_dim = x_train.shape[1]\n",
    "\n",
    "# Re-create model architecture\n",
    "model = Autoencoder(input_dim)\n",
    "\n",
    "# Load trained weights\n",
    "model.load_state_dict(torch.load('../data/autoencoder_model.pth'))\n",
    "\n",
    "# Set to eval mode\n",
    "model.eval()\n"
   ]
  },
  {
   "cell_type": "code",
   "execution_count": null,
   "id": "6883fe2f",
   "metadata": {},
   "outputs": [],
   "source": [
    "# Convert to torch tensor\n",
    "x_test_tensor = torch.tensor(x_test.values).float()\n",
    "\n",
    "# Batch loader (For larger test sets)\n",
    "test_loader = torch.utils.data.DataLoader(x_test_tensor, batch_size=64, shuffle=False)"
   ]
  },
  {
   "cell_type": "code",
   "execution_count": 9,
   "id": "f10712bd",
   "metadata": {},
   "outputs": [],
   "source": [
    "anomaly_scores = []\n",
    "\n",
    "with torch.no_grad():\n",
    "    for batch in test_loader:\n",
    "        outputs = model(batch)\n",
    "        mse = torch.mean((outputs - batch)**2, dim = 1)\n",
    "        anomaly_scores.append(mse.numpy())\n",
    "\n",
    "\n",
    "anomaly_scores = np.concatenate(anomaly_scores)"
   ]
  },
  {
   "cell_type": "code",
   "execution_count": 10,
   "id": "32e91b25",
   "metadata": {},
   "outputs": [
    {
     "data": {
      "image/png": "[encoded data removed]",
      "text/plain": [
       "<Figure size 640x480 with 1 Axes>"
      ]
     },
     "metadata": {},
     "output_type": "display_data"
    }
   ],
   "source": [
    "plt.hist(anomaly_scores, bins=50, alpha=0.75)\n",
    "plt.xlabel('Reconstruction Error (MSE)')\n",
    "plt.ylabel('Number of Samples')\n",
    "plt.title('Histogram of Anomaly Scores')\n",
    "plt.show()"
   ]
  },
  {
   "cell_type": "code",
   "execution_count": 11,
   "id": "e59f2992",
   "metadata": {},
   "outputs": [],
   "source": [
    "y_test = splits['Y_test']\n",
    "y_test = np.array(y_test)"
   ]
  },
  {
   "cell_type": "code",
   "execution_count": 16,
   "id": "e690773b",
   "metadata": {},
   "outputs": [],
   "source": [
    "thresholds = np.linspace(min(anomaly_scores), max(anomaly_scores), 100)\n",
    "\n",
    "precision_list = []\n",
    "recall_list = []\n",
    "f1_list = []\n",
    "valid_thresholds = []\n",
    "\n",
    "for thresh in thresholds:\n",
    "    preds = (anomaly_scores > thresh).astype(int)\n",
    "\n",
    "    if preds.sum() == 0: # Skip thresholds where model predicts no anomalies\n",
    "        continue\n",
    "\n",
    "    precision = precision_score(y_test, preds)\n",
    "    recall = recall_score(y_test, preds)\n",
    "    f1 = f1_score(y_test, preds)\n",
    "\n",
    "    precision_list.append(precision)\n",
    "    recall_list.append(recall)\n",
    "    f1_list.append(f1)\n",
    "    valid_thresholds.append(thresh)"
   ]
  },
  {
   "cell_type": "code",
   "execution_count": 17,
   "id": "ff6b28ca",
   "metadata": {},
   "outputs": [],
   "source": [
    "plt.plot(valid_thresholds, precision_list, label = 'Precision')\n",
    "plt.plot(valid_thresholds, recall_list, label = 'recall')\n",
    "plt.plot(valid_thresholds, f1_list, label = 'f1 Score')\n",
    "plt.xlabel('Thresholds')\n",
    "plt.ylabel('Score')\n",
    "plt.title('Precision, Recall, F1 vs. Threshold')\n",
    "plt.legend()\n",
    "plt.savefig('../plots/threshold_precisionRecallF1_curve.png')\n",
    "plt.close('all')"
   ]
  },
  {
   "cell_type": "code",
   "execution_count": null,
   "id": "84f1283b",
   "metadata": {},
   "outputs": [
    {
     "name": "stdout",
     "output_type": "stream",
     "text": [
      "==== Best Threshold Results ====\n",
      "Best threshold: 0.36308\n",
      "F1 Score    : 0.8549\n",
      "Precision   : 0.9392\n",
      "Recall      : 0.7846\n"
     ]
    }
   ],
   "source": [
    "# Convert lists to numpy arrays\n",
    "precision_array = np.array(precision_list)\n",
    "recall_array = np.array(recall_list)\n",
    "f1_array = np.array(f1_list)\n",
    "valid_thresholds = np.array(valid_thresholds)\n",
    "\n",
    "best_idx = np.argmax(f1_array)\n",
    "best_threshold = valid_thresholds[best_idx]\n",
    "best_f1 = f1_array[best_idx]\n",
    "best_precision = precision_array[best_idx]\n",
    "best_recall = recall_array[best_idx]\n",
    "\n",
    "print(\"==== Best Threshold Results ====\")\n",
    "print(f\"Best threshold: {best_threshold:.5f}\")\n",
    "print(f\"F1 Score    : {best_f1:.4f}\")\n",
    "print(f\"Precision   : {best_precision:.4f}\")\n",
    "print(f\"Recall      : {best_recall:.4f}\")"
   ]
  },
  {
   "cell_type": "code",
   "execution_count": 21,
   "id": "7e9af195",
   "metadata": {},
   "outputs": [],
   "source": [
    "with open('../data/best_threshold.pkl', 'wb') as f:\n",
    "    pickle.dump(best_threshold, f)"
   ]
  }
 ],
 "metadata": {
  "kernelspec": {
   "display_name": "fraud-detection",
   "language": "python",
   "name": "python3"
  },
  "language_info": {
   "codemirror_mode": {
    "name": "ipython",
    "version": 3
   },
   "file_extension": ".py",
   "mimetype": "text/x-python",
   "name": "python",
   "nbconvert_exporter": "python",
   "pygments_lexer": "ipython3",
   "version": "3.8.20"
  }
 },
 "nbformat": 4,
 "nbformat_minor": 5
}
