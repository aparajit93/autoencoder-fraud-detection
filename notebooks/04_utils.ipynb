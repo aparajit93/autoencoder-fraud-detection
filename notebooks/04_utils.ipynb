{
 "cells": [
  {
   "cell_type": "code",
   "execution_count": 2,
   "id": "9e4a362b",
   "metadata": {},
   "outputs": [
    {
     "name": "stdout",
     "output_type": "stream",
     "text": [
      "New test data saved to: data/new_samples.csv\n"
     ]
    }
   ],
   "source": [
    "import numpy as np\n",
    "import pandas as pd\n",
    "import os\n",
    "\n",
    "# Set up consistent input size\n",
    "input_dim = 30    # ⚠️ change this to match your model\n",
    "n_samples = 100\n",
    "\n",
    "# Simulate normal-like data\n",
    "np.random.seed(42)\n",
    "X_new = np.random.normal(loc=0.0, scale=1.0, size=(n_samples, input_dim))\n",
    "\n",
    "# Save to CSV\n",
    "df_new = pd.DataFrame(X_new, columns=[f'feature_{i}' for i in range(input_dim)])\n",
    "os.makedirs('data', exist_ok=True)\n",
    "df_new.to_csv('../data/new_samples.csv', index=False)\n",
    "\n",
    "print(\"New test data saved to: data/new_samples.csv\")"
   ]
  }
 ],
 "metadata": {
  "kernelspec": {
   "display_name": "fraud-detection",
   "language": "python",
   "name": "python3"
  },
  "language_info": {
   "codemirror_mode": {
    "name": "ipython",
    "version": 3
   },
   "file_extension": ".py",
   "mimetype": "text/x-python",
   "name": "python",
   "nbconvert_exporter": "python",
   "pygments_lexer": "ipython3",
   "version": "3.8.20"
  }
 },
 "nbformat": 4,
 "nbformat_minor": 5
}
